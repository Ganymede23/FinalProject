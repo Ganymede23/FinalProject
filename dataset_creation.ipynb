{
 "cells": [
  {
   "cell_type": "code",
   "execution_count": null,
   "id": "0630aa98",
   "metadata": {},
   "outputs": [],
   "source": [
    "import tweepy\n",
    "from twitter_authentication import API_KEY, API_SECRET, ACCESS_TOKEN, ACCESS_TOKEN_SECRET, BEARER_TOKEN\n",
    "import json\n",
    "\n",
    "# V1 AUTH\n",
    "#auth = tweepy.OAuthHandler(API_KEY, API_SECRET)\n",
    "#auth.set_access_token(ACCESS_TOKEN, ACCESS_TOKEN_SECRET)\n",
    "#tweepy.Client(bearer_token=BEARER_TOKEN, consumer_key=API_KEY, consumer_secret=API_SECRET, access_token=ACCESS_TOKEN, access_token_secret=ACCESS_TOKEN_SECRET)\n"
   ]
  },
  {
   "cell_type": "code",
   "execution_count": null,
   "id": "df233bba",
   "metadata": {},
   "outputs": [],
   "source": [
    "url_list = []\n",
    "\n",
    "def save_list(vehicle_type):\n",
    "    jsonString = json.dumps(url_list)\n",
    "    path = \"./dataset/\" + vehicle_type + \"/img_urls.json\"\n",
    "    jsonFile = open(path, \"w\")\n",
    "    jsonFile.write(jsonString)\n",
    "    jsonFile.close()\n",
    "    \n",
    "\n",
    "def read_list(vehicle_type: str):\n",
    "    path = \"./dataset/\" + vehicle_type + \"/img_urls.json\"\n",
    "    fileObject = open(path, \"r\")\n",
    "    jsonContent = fileObject.read()\n",
    "    try:\n",
    "        url_list = json.loads(jsonContent)\n",
    "    except:\n",
    "        #json is empty\n",
    "        url_list = []\n",
    "        pass\n",
    "    return url_list\n",
    "    #print(url_list)"
   ]
  },
  {
   "cell_type": "code",
   "execution_count": null,
   "id": "1919c78f",
   "metadata": {},
   "outputs": [],
   "source": [
    "client = tweepy.Client(bearer_token=BEARER_TOKEN)\n",
    "\n",
    "# Users of interest: UAWeapons, OSINTua, RALee85, praisethesteph, 200_zoka, oryxspioenkop, Arslon_Xudosi\n",
    "# from:twitterdev\n",
    "# query_t72 = 'T-72 has:images -is:retweet (lang:en OR lang:ru OR lang:uk)'\n",
    "# query_mtlb = '(MT-LB OR MT-LBV OR MT-LBVM OR MT-LBVMK OR MT-LBVM/K) -is:retweet from:UAWeapons'\n",
    "\n",
    "query_vehicle_list = [  # (model,query content)\n",
    "    ('MT-LB','MT-LB OR MT-LBV OR MT-LBVM OR MT-LBVMK OR MT-LBVM/K OR MT-LBu'),\n",
    "    ('BTR-80','BTR-80 OR BTR-82'),\n",
    "    ('BTR-82A','BTR-80A OR BTR-82A'),\n",
    "    ('BMP-1','BMP-1'),\n",
    "    ('BMP-2','BMP-2'),\n",
    "    ('BMP-3','BMP-3 OR BMP-3M'),\n",
    "    ('T-64','T-64 OR T-64A OR T-64B OR T-64BV OR T-64B1M OR T-64BM OR T-64BM2'),\n",
    "    ('T-72','T-72 OR T-72A OR T-72AV OR T-72AMT OR T-72B OR T-72BA OR T-72B3 OR T-72B3 OR T-72M OR T-72M1'),\n",
    "    ('T-80','T-80 OR T-80B OR T-80BV OR T-80U OR T-80BVM'),\n",
    "    ('T-90','T-90 OR T-90A OR T-90M'),\n",
    "    ('2S1','2S1 OR Gvozdika'),\n",
    "    ('2S3','2S3 OR Akatsiya'),\n",
    "    ('2S19','2S19 OR 2S19M OR 2S19M1 OR 2S19M2 OR Msta OR Msta-S OR Msta-SM2'),\n",
    "    ('BM-21','BM-21'),\n",
    "]\n",
    "\n",
    "for vehicle in query_vehicle_list:\n",
    "    model, query_content = vehicle\n",
    "    \n",
    "    url_counter = 0\n",
    "    url_list = []\n",
    "    url_list = read_list(model)\n",
    "    \n",
    "    query = '(' + query_content + ') (russian OR ukrainian OR ukraine OR russia OR army OR captured OR kherson OR kharkiv OR oblast OR donetsk OR severodonetsk OR luhansk OR lugansk OR Dnieper OR Dnipro OR izium OR izyum) has:images -is:retweet'\n",
    "    #print(query)\n",
    "\n",
    "    paginator = tweepy.Paginator(client.search_recent_tweets, query=query, max_results=100, limit=1000, expansions=['attachments.media_keys'], media_fields=['url'])\n",
    "    for page in paginator:\n",
    "        #print(page.includes['media'])  \n",
    "        for item in page.includes['media']:\n",
    "            url_list.append(item.url)\n",
    "            url_counter += 1\n",
    "\n",
    "    save_list(model)\n",
    "    print('Saved', url_counter, model)\n"
   ]
  },
  {
   "cell_type": "code",
   "execution_count": null,
   "id": "f2e7c61c",
   "metadata": {},
   "outputs": [],
   "source": [
    "\n",
    "#https://stackoverflow.com/questions/70854869/tweepy-problem-retrieving-username-informations-with-twitter-v2-api\n",
    "#https://stackoverflow.com/questions/72016766/tweepy-only-lets-me-get-100-results-how-do-i-get-more-ive-read-about-paginati\n",
    "\n"
   ]
  },
  {
   "cell_type": "code",
   "execution_count": null,
   "id": "946b7610",
   "metadata": {},
   "outputs": [],
   "source": [
    "import urllib.request\n",
    "import os\n",
    "\n",
    "def download_img(url, vehicle, file_name):\n",
    "    full_path = './dataset/' + vehicle + '/' + file_name + '.jpg'\n",
    "    urllib.request.urlretrieve(url, full_path)\n",
    "\n",
    "url_list2 = [\"https://pbs.twimg.com/media/FcjBEEAXwAAxuU_.jpg\", \"https://pbs.twimg.com/media/FcjBEO4WAAEK9Z6.jpg\", \"https://pbs.twimg.com/media/FcjBEXJXwAAsnsh.jpg\", \"https://pbs.twimg.com/media/Fci0tJPXkAI1hHa.jpg\", \"https://pbs.twimg.com/media/FcioNgiWIAAN0h8.jpg\", \"https://pbs.twimg.com/media/FcioO3UWIAMR7NB.jpg\", \"https://pbs.twimg.com/media/FcioS_gWIAIyfAG.jpg\", \"https://pbs.twimg.com/media/FcioV72XkAA9T93.jpg\", \"https://pbs.twimg.com/media/Fchz1FRXkAQ0kEV.jpg\", \"https://pbs.twimg.com/media/Fchz1meXEAQZUgV.jpg\", \"https://pbs.twimg.com/media/Fchz14fWQAE5b0_.jpg\", \"https://pbs.twimg.com/media/Fchj4nJWAAU8F4_.jpg\", \"https://pbs.twimg.com/media/Fchj4nRXoAA6obb.jpg\", \"https://pbs.twimg.com/media/Fchj4nTX0AAe0PN.jpg\", \"https://pbs.twimg.com/media/Fchj4nJX0AEHHVh.jpg\", \"https://pbs.twimg.com/media/FcAScW5XoAEIuuV.png\", \"https://pbs.twimg.com/media/FcjBEEAXwAAxuU_.jpg\", \"https://pbs.twimg.com/media/FcjBEO4WAAEK9Z6.jpg\", \"https://pbs.twimg.com/media/FcjBEXJXwAAsnsh.jpg\", \"https://pbs.twimg.com/media/Fci0tJPXkAI1hHa.jpg\", \"https://pbs.twimg.com/media/FcioNgiWIAAN0h8.jpg\", \"https://pbs.twimg.com/media/FcioO3UWIAMR7NB.jpg\", \"https://pbs.twimg.com/media/FcioS_gWIAIyfAG.jpg\", \"https://pbs.twimg.com/media/FcioV72XkAA9T93.jpg\", \"https://pbs.twimg.com/media/Fchz1FRXkAQ0kEV.jpg\", \"https://pbs.twimg.com/media/Fchz1meXEAQZUgV.jpg\", \"https://pbs.twimg.com/media/Fchz14fWQAE5b0_.jpg\", \"https://pbs.twimg.com/media/FchoCe9acAQw_dp.jpg\", \"https://pbs.twimg.com/media/FchoCe9aIAMhbCt.jpg\", \"https://pbs.twimg.com/media/FchoCe-aMAAsAPE.jpg\", \"https://pbs.twimg.com/media/Fchj4nJWAAU8F4_.jpg\", \"https://pbs.twimg.com/media/Fchj4nRXoAA6obb.jpg\", \"https://pbs.twimg.com/media/Fchj4nTX0AAe0PN.jpg\", \"https://pbs.twimg.com/media/Fchj4nJX0AEHHVh.jpg\", \"https://pbs.twimg.com/media/FchjlW_WIAEjWN6.jpg\", \"https://pbs.twimg.com/media/FchjlodXoAErkL1.jpg\", \"https://pbs.twimg.com/media/Fchjl0NXgAEvpxD.jpg\", \"https://pbs.twimg.com/media/Fchjl9HWIAAljJL.jpg\", \"https://pbs.twimg.com/media/Fceuk_nXgAEopTW.jpg\", \"https://pbs.twimg.com/media/FceulRiX0AEXT6g.jpg\", \"https://pbs.twimg.com/media/FcXwl3xaAAY72_q.jpg\", \"https://pbs.twimg.com/media/FcXFyz_aUAIlm_T.jpg\", \"https://pbs.twimg.com/media/FcXFzqLaIAA_rak.jpg\", \"https://pbs.twimg.com/media/FcTuW_iWAAQzlnq.jpg\", \"https://pbs.twimg.com/media/FcPEto9XkAUzJI4.jpg\", \"https://pbs.twimg.com/media/FcPEtqqXwAMHfxO.jpg\", \"https://pbs.twimg.com/media/FcPEtqCXEAYiNkP.jpg\", \"https://pbs.twimg.com/media/FcPEtpoWAAAwWIK.jpg\", \"https://pbs.twimg.com/media/BwZYanYCcAA7A-A.jpg\", \"https://pbs.twimg.com/media/FcFHMVFXEAA5IRb.jpg\", \"https://pbs.twimg.com/media/FcFHQdxXgAAwOm5.jpg\", \"https://pbs.twimg.com/media/FcC_6V3WQAAdAJj.jpg\", \"https://pbs.twimg.com/media/FcAScW5XoAEIuuV.png\", \"https://pbs.twimg.com/media/FcHnL0UWAAAWY-B.png\",]\n",
    "\n",
    "counter = 0\n",
    "for url in url_list2:\n",
    "    counter += 1\n",
    "    download_img(url, '2S1', str(counter))"
   ]
  },
  {
   "cell_type": "code",
   "execution_count": null,
   "id": "24cbb6b3",
   "metadata": {},
   "outputs": [],
   "source": [
    "import os\n",
    "\n",
    "def count_img(vehicle_type):\n",
    "    counter = 0\n",
    "    folder_path = './dataset/' + vehicle_type\n",
    "    for path in os.scandir(folder_path):\n",
    "        if path.is_file():\n",
    "            if path.name[-4:] == '.jpg':\n",
    "                counter += 1\n",
    "\n",
    "    print(counter)\n",
    "\n",
    "#count_img('2S3')"
   ]
  },
  {
   "cell_type": "code",
   "execution_count": null,
   "id": "73669d9c",
   "metadata": {},
   "outputs": [],
   "source": [
    "import csv\n",
    "#UNFINISHED\n",
    "def csv_lookup(vehicle_type):\n",
    "    with open('./dataset/test.csv', newline='') as csvfile:\n",
    "        csv_reader = csv.reader(csvfile, delimiter=',', quotechar='|')\n",
    "        for row in csv_reader:\n",
    "            _, _, system, status, url, _ = row\n",
    "            if vehicle_type in system:\n",
    "                url_list.append(url)\n",
    "                print(row)\n",
    "#UNFINISHED"
   ]
  }
 ],
 "metadata": {
  "kernelspec": {
   "display_name": "Python 3.8.5 ('venv')",
   "language": "python",
   "name": "python3"
  },
  "language_info": {
   "codemirror_mode": {
    "name": "ipython",
    "version": 3
   },
   "file_extension": ".py",
   "mimetype": "text/x-python",
   "name": "python",
   "nbconvert_exporter": "python",
   "pygments_lexer": "ipython3",
   "version": "3.8.5"
  },
  "vscode": {
   "interpreter": {
    "hash": "79ae438818e454af4f26ac53bc90cc6114af98306db0d7e90db8f6b9a9700471"
   }
  }
 },
 "nbformat": 4,
 "nbformat_minor": 5
}
